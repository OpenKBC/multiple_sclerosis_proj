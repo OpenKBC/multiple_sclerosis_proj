{
 "cells": [
  {
   "cell_type": "code",
   "execution_count": 4,
   "source": [
    "import pandas as pd\n",
    "## Utils and Library for notebook\n",
    "from notebook_utils.OpenKbcMSToolkit import ExtractionToolkit as exttoolkit\n",
    "\n",
    "# Root data path\n",
    "DATA_PATH = '../data/'\n",
    "\n",
    "#Data loading\n",
    "df = pd.read_csv(\"resultFiles/featureExtractionV5_by_Jun/CD4.Ranksum.RFECV.act.csv\", engine='c', index_col=0)\n",
    "meta_data = pd.read_csv(DATA_PATH+'annotation_metadata/EPIC_HCvB_metadata_baseline_updated-share.csv')\n"
   ],
   "outputs": [],
   "metadata": {}
  },
  {
   "cell_type": "code",
   "execution_count": 5,
   "source": [
    "## Utils and Library for notebook\n",
    "from notebook_utils.OpenKbcMSToolkit import ExtractionToolkit as exttoolkit\n",
    "import itertools\n",
    "def _LoadDiseaseDuration(df, meta_data, returntype='long'):\n",
    "    \"\"\"\n",
    "    df : Expression or activation score matrix\n",
    "    meta_data : meta data which contains duration and sample ID\n",
    "    output: long DD samples and short DD samples by list, or healthy samples and short DD samples by list\n",
    "    \"\"\"\n",
    "    # checking multiple element for returntype\n",
    "    if returntype.count(',')>1: raise ValueError('No more than 2 elements for returntype')\n",
    "\n",
    "    if returntype.find(',')==-1: # if returnType is single(long and healthy)\n",
    "        # Sample by disease category\n",
    "        sample_list, sample_category = exttoolkit.get_sample_name_by_category(dataframe=meta_data, sampleColumn='HCVB_ID', dataColname='DiseaseCourse')\n",
    "        \n",
    "        # Sort by disease category and exclude uknown samples\n",
    "        patient_samples = [] # patient samples\n",
    "        healthy_samples = [] # healthy samples\n",
    "        for samples, category in zip(sample_list, sample_category):\n",
    "            if category=='Healthy':\n",
    "                healthy_samples = samples\n",
    "            else:\n",
    "                if category!='Unknown':# Excluding unknown samples\n",
    "                    patient_samples.append(samples)\n",
    "\n",
    "        patient_samples = list(itertools.chain(*patient_samples)) # flatten\n",
    "        patient_samples = list(set(patient_samples).intersection(df.columns.tolist())) # intersected with act score matrix\n",
    "        healthy_samples = list(set(healthy_samples).intersection(df.columns.tolist())) # intersected with act score matrix\n",
    "        patient_meta = meta_data.loc[meta_data['HCVB_ID'].isin(patient_samples)] # Make patient metadata\n",
    "\n",
    "        longDD_samples, shortDD_samples = exttoolkit.get_sample_name_by_contValues(patient_meta, 'HCVB_ID', 'DiseaseDuration', 25)\n",
    "        longDD_samples = list(set(longDD_samples.values.tolist()).intersection(df.columns.tolist())) # intersected with act score matrix\n",
    "        shortDD_samples = list(set(shortDD_samples.values.tolist()).intersection(df.columns.tolist())) # intersected with act score matrix\n",
    "\n",
    "    else: # if returnType is multiple(List)\n",
    "        # Sample by disease category\n",
    "        sample_list, sample_category = exttoolkit.get_sample_name_by_category(dataframe=meta_data, sampleColumn='HCVB_ID', dataColname='DiseaseCourse')\n",
    "        category1 = returntype.split(',')[0]\n",
    "        category2 = returntype.split(',')[1]\n",
    "        \n",
    "        # Sort by disease category and exclude uknown samples\n",
    "        patient_samples = [] # patient samples\n",
    "        healthy_samples = [] # healthy samples\n",
    "        for samples, category in zip(sample_list, sample_category):\n",
    "            if category==category1:\n",
    "                category1_samples = list(set(samples).intersection(df.columns.tolist())) # intersected with act score matrix\n",
    "            elif category==category2:\n",
    "                category2_samples = list(set(samples).intersection(df.columns.tolist())) # intersected with act score matrix\n",
    "\n",
    "    # return result\n",
    "    if returntype=='long':\n",
    "        return longDD_samples, shortDD_samples\n",
    "    elif returntype=='healthy':\n",
    "        return healthy_samples, shortDD_samples\n",
    "    else:\n",
    "        return category1_samples, category2_samples\n"
   ],
   "outputs": [],
   "metadata": {}
  },
  {
   "cell_type": "code",
   "execution_count": 6,
   "source": [
    "df_cd4 = df.copy()\n",
    "longDD_samples, shortDD_samples = _LoadDiseaseDuration(df_cd4, meta_data, 'RR,CIS')\n",
    "df_cd4 = df_cd4[longDD_samples+shortDD_samples]\n",
    "df_cd4 = df_cd4.subtract(df_cd4.median(axis=1), axis=0)\n",
    "\n",
    "\n",
    "X = df_cd4.T.values # Training sample\n",
    "y = [0]*len(longDD_samples)+[1]*len(shortDD_samples) # Training y\n",
    "X.shape"
   ],
   "outputs": [
    {
     "output_type": "execute_result",
     "data": {
      "text/plain": [
       "(119, 556)"
      ]
     },
     "metadata": {},
     "execution_count": 6
    }
   ],
   "metadata": {}
  },
  {
   "cell_type": "code",
   "execution_count": 7,
   "source": [
    "from sklearn.ensemble import RandomForestClassifier\n",
    "from sklearn.svm import SVC\n",
    "from sklearn.model_selection import train_test_split\n",
    "from sklearn import metrics\n",
    "\n",
    "auc_arr = []\n",
    "val_auc = []\n",
    "\n",
    "for t in list(range(0,100)):\n",
    "    X_train, X_test, y_train, y_test = train_test_split(X, y, test_size=0.4, random_state=t)\n",
    "    X_test, X_val, y_test, y_val = train_test_split(X_test, y_test, test_size=0.5, random_state=t)\n",
    "\n",
    "    #randomState = list(range(0,5))\n",
    "\n",
    "    clf = SVC(kernel=\"linear\")\n",
    "    clf.fit(X_train, y_train)\n",
    "\n",
    "    y_pred = clf.predict(X_test)\n",
    "    fpr, tpr, thresholds = metrics.roc_curve(y_test, y_pred, pos_label=1)\n",
    "    auc_arr.append([t, metrics.auc(fpr, tpr)])\n",
    "    \n",
    "    y_val_pred = clf.predict(X_val)\n",
    "    fpr, tpr, thresholds = metrics.roc_curve(y_val, y_val_pred, pos_label=1)\n",
    "    val_auc.append([t, metrics.auc(fpr, tpr)])\n",
    "\n",
    "auc_test_df = pd.DataFrame(data=auc_arr, columns=['state', 'auc']).set_index('state')\n",
    "auc_val_df = pd.DataFrame(data=val_auc, columns=['state', 'auc']).set_index('state')"
   ],
   "outputs": [],
   "metadata": {}
  },
  {
   "cell_type": "code",
   "execution_count": 8,
   "source": [
    "auc_df = pd.concat([auc_test_df, auc_val_df], axis=1)\n",
    "auc_df.columns = ['test_auc', 'val_auc']\n",
    "auc_df['diff'] = auc_df['test_auc'] - auc_df['val_auc']\n",
    "auc_df"
   ],
   "outputs": [
    {
     "output_type": "execute_result",
     "data": {
      "text/html": [
       "<div>\n",
       "<style scoped>\n",
       "    .dataframe tbody tr th:only-of-type {\n",
       "        vertical-align: middle;\n",
       "    }\n",
       "\n",
       "    .dataframe tbody tr th {\n",
       "        vertical-align: top;\n",
       "    }\n",
       "\n",
       "    .dataframe thead th {\n",
       "        text-align: right;\n",
       "    }\n",
       "</style>\n",
       "<table border=\"1\" class=\"dataframe\">\n",
       "  <thead>\n",
       "    <tr style=\"text-align: right;\">\n",
       "      <th></th>\n",
       "      <th>test_auc</th>\n",
       "      <th>val_auc</th>\n",
       "      <th>diff</th>\n",
       "    </tr>\n",
       "    <tr>\n",
       "      <th>state</th>\n",
       "      <th></th>\n",
       "      <th></th>\n",
       "      <th></th>\n",
       "    </tr>\n",
       "  </thead>\n",
       "  <tbody>\n",
       "    <tr>\n",
       "      <th>0</th>\n",
       "      <td>0.875000</td>\n",
       "      <td>0.822222</td>\n",
       "      <td>0.052778</td>\n",
       "    </tr>\n",
       "    <tr>\n",
       "      <th>1</th>\n",
       "      <td>1.000000</td>\n",
       "      <td>0.944444</td>\n",
       "      <td>0.055556</td>\n",
       "    </tr>\n",
       "    <tr>\n",
       "      <th>2</th>\n",
       "      <td>0.857143</td>\n",
       "      <td>0.970588</td>\n",
       "      <td>-0.113445</td>\n",
       "    </tr>\n",
       "    <tr>\n",
       "      <th>3</th>\n",
       "      <td>0.828571</td>\n",
       "      <td>0.873684</td>\n",
       "      <td>-0.045113</td>\n",
       "    </tr>\n",
       "    <tr>\n",
       "      <th>4</th>\n",
       "      <td>0.900000</td>\n",
       "      <td>0.900000</td>\n",
       "      <td>0.000000</td>\n",
       "    </tr>\n",
       "    <tr>\n",
       "      <th>...</th>\n",
       "      <td>...</td>\n",
       "      <td>...</td>\n",
       "      <td>...</td>\n",
       "    </tr>\n",
       "    <tr>\n",
       "      <th>95</th>\n",
       "      <td>0.687500</td>\n",
       "      <td>0.954545</td>\n",
       "      <td>-0.267045</td>\n",
       "    </tr>\n",
       "    <tr>\n",
       "      <th>96</th>\n",
       "      <td>0.869748</td>\n",
       "      <td>0.941176</td>\n",
       "      <td>-0.071429</td>\n",
       "    </tr>\n",
       "    <tr>\n",
       "      <th>97</th>\n",
       "      <td>0.911111</td>\n",
       "      <td>0.937500</td>\n",
       "      <td>-0.026389</td>\n",
       "    </tr>\n",
       "    <tr>\n",
       "      <th>98</th>\n",
       "      <td>1.000000</td>\n",
       "      <td>0.888889</td>\n",
       "      <td>0.111111</td>\n",
       "    </tr>\n",
       "    <tr>\n",
       "      <th>99</th>\n",
       "      <td>0.950000</td>\n",
       "      <td>0.916667</td>\n",
       "      <td>0.033333</td>\n",
       "    </tr>\n",
       "  </tbody>\n",
       "</table>\n",
       "<p>100 rows × 3 columns</p>\n",
       "</div>"
      ],
      "text/plain": [
       "       test_auc   val_auc      diff\n",
       "state                              \n",
       "0      0.875000  0.822222  0.052778\n",
       "1      1.000000  0.944444  0.055556\n",
       "2      0.857143  0.970588 -0.113445\n",
       "3      0.828571  0.873684 -0.045113\n",
       "4      0.900000  0.900000  0.000000\n",
       "...         ...       ...       ...\n",
       "95     0.687500  0.954545 -0.267045\n",
       "96     0.869748  0.941176 -0.071429\n",
       "97     0.911111  0.937500 -0.026389\n",
       "98     1.000000  0.888889  0.111111\n",
       "99     0.950000  0.916667  0.033333\n",
       "\n",
       "[100 rows x 3 columns]"
      ]
     },
     "metadata": {},
     "execution_count": 8
    }
   ],
   "metadata": {}
  },
  {
   "cell_type": "code",
   "execution_count": 9,
   "source": [
    "import seaborn as sns\n",
    "sns.distplot(auc_test_df['auc'].values.tolist())\n",
    "sns.distplot(auc_val_df['auc'].values.tolist())"
   ],
   "outputs": [
    {
     "output_type": "stream",
     "name": "stderr",
     "text": [
      "/opt/miniconda3/envs/r-py-test/lib/python3.8/site-packages/seaborn/distributions.py:2619: FutureWarning: `distplot` is a deprecated function and will be removed in a future version. Please adapt your code to use either `displot` (a figure-level function with similar flexibility) or `histplot` (an axes-level function for histograms).\n",
      "  warnings.warn(msg, FutureWarning)\n",
      "/opt/miniconda3/envs/r-py-test/lib/python3.8/site-packages/seaborn/distributions.py:2619: FutureWarning: `distplot` is a deprecated function and will be removed in a future version. Please adapt your code to use either `displot` (a figure-level function with similar flexibility) or `histplot` (an axes-level function for histograms).\n",
      "  warnings.warn(msg, FutureWarning)\n"
     ]
    },
    {
     "output_type": "execute_result",
     "data": {
      "text/plain": [
       "<AxesSubplot:ylabel='Density'>"
      ]
     },
     "metadata": {},
     "execution_count": 9
    },
    {
     "output_type": "display_data",
     "data": {
      "image/png": "[encoded data removed]",
      "text/plain": [
       "<Figure size 432x288 with 1 Axes>"
      ]
     },
     "metadata": {
      "needs_background": "light"
     }
    }
   ],
   "metadata": {}
  },
  {
   "cell_type": "code",
   "execution_count": 11,
   "source": [
    "sns.distplot(auc_df['diff'].values.tolist())"
   ],
   "outputs": [
    {
     "output_type": "stream",
     "name": "stderr",
     "text": [
      "/opt/miniconda3/envs/r-py-test/lib/python3.8/site-packages/seaborn/distributions.py:2619: FutureWarning: `distplot` is a deprecated function and will be removed in a future version. Please adapt your code to use either `displot` (a figure-level function with similar flexibility) or `histplot` (an axes-level function for histograms).\n",
      "  warnings.warn(msg, FutureWarning)\n"
     ]
    },
    {
     "output_type": "execute_result",
     "data": {
      "text/plain": [
       "<AxesSubplot:ylabel='Density'>"
      ]
     },
     "metadata": {},
     "execution_count": 11
    },
    {
     "output_type": "display_data",
     "data": {
      "image/png": "[encoded data removed]",
      "text/plain": [
       "<Figure size 432x288 with 1 Axes>"
      ]
     },
     "metadata": {
      "needs_background": "light"
     }
    }
   ],
   "metadata": {}
  },
  {
   "cell_type": "code",
   "execution_count": null,
   "source": [],
   "outputs": [],
   "metadata": {}
  }
 ],
 "metadata": {
  "orig_nbformat": 4,
  "language_info": {
   "name": "python",
   "version": "3.8.2",
   "mimetype": "text/x-python",
   "codemirror_mode": {
    "name": "ipython",
    "version": 3
   },
   "pygments_lexer": "ipython3",
   "nbconvert_exporter": "python",
   "file_extension": ".py"
  },
  "kernelspec": {
   "name": "python3",
   "display_name": "Python 3.8.2 64-bit ('r-py-test': conda)"
  },
  "interpreter": {
   "hash": "7508a6b53ffb04362d156591e4bfb20c197555e37f3cce3b1ec90fd899bbfe63"
  }
 },
 "nbformat": 4,
 "nbformat_minor": 2
}