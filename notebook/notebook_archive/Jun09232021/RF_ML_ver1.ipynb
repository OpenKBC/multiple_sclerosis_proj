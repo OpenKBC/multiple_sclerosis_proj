{
 "cells": [
  {
   "cell_type": "code",
   "execution_count": 74,
   "source": [
    "import pandas as pd\n",
    "import seaborn as sns\n",
    "import numpy as np\n",
    "import matplotlib.pyplot as plt\n",
    "\n",
    "resultPath = \"resultFiles/featureExtractionV3_by_Jun/\"\n",
    "\n",
    "intersected_genes = []\n",
    "for x in ['CD4', 'CD8', 'CD14']:\n",
    "    #df_healthy = pd.read_csv(resultPath+\"HealthyPatients/\"+x+\".Ranksum.RFECV.gene.result\", index_col=0)\n",
    "    df_long = pd.read_csv(resultPath+\"LongDiseaseDuration/\"+x+\".Ranksum.RFECV.gene.result\", index_col=0)\n",
    "    print(x)\n",
    "    print(len(df_long))\n"
   ],
   "outputs": [
    {
     "output_type": "stream",
     "name": "stdout",
     "text": [
      "CD4\n",
      "43\n",
      "CD8\n",
      "149\n",
      "CD14\n",
      "637\n"
     ]
    }
   ],
   "metadata": {}
  },
  {
   "cell_type": "code",
   "execution_count": 77,
   "source": [
    "## Utils and Library for notebook\n",
    "from notebook_utils.OpenKbcMSToolkit import ExtractionToolkit as exttoolkit\n",
    "import itertools\n",
    "def _LoadDiseaseDuration(df, meta_data, returntype='long'):\n",
    "    \"\"\"\n",
    "    df : Expression or activation score matrix\n",
    "    meta_data : meta data which contains duration and sample ID\n",
    "    output: long DD samples and short DD samples by list, or healthy samples and short DD samples by list\n",
    "    \"\"\"\n",
    "    # Sample by disease category\n",
    "    sample_list, sample_category = exttoolkit.get_sample_name_by_category(dataframe=meta_data, sampleColumn='HCVB_ID', dataColname='DiseaseCourse')\n",
    "    \n",
    "    # Sort by disease category and exclude uknown samples\n",
    "    patient_samples = [] # patient samples\n",
    "    healthy_samples = [] # healthy samples\n",
    "    for samples, category in zip(sample_list, sample_category):\n",
    "        if category=='Healthy':\n",
    "            healthy_samples = samples\n",
    "        else:\n",
    "            if category!='Unknown':# Excluding unknown samples\n",
    "                patient_samples.append(samples)\n",
    "\n",
    "    patient_samples = list(itertools.chain(*patient_samples)) # flatten\n",
    "    patient_samples = list(set(patient_samples).intersection(df.columns.tolist())) # intersected with act score matrix\n",
    "    healthy_samples = list(set(healthy_samples).intersection(df.columns.tolist())) # intersected with act score matrix\n",
    "    patient_meta = meta_data.loc[meta_data['HCVB_ID'].isin(patient_samples)] # Make patient metadata\n",
    "\n",
    "    longDD_samples, shortDD_samples = exttoolkit.get_sample_name_by_contValues(patient_meta, 'HCVB_ID', 'DiseaseDuration', 50)\n",
    "    longDD_samples = list(set(longDD_samples.values.tolist()).intersection(df.columns.tolist())) # intersected with act score matrix\n",
    "    shortDD_samples = list(set(shortDD_samples.values.tolist()).intersection(df.columns.tolist())) # intersected with act score matrix\n",
    "\n",
    "    if returntype=='long':\n",
    "        return longDD_samples, shortDD_samples\n",
    "    elif returntype=='healthy':\n",
    "        return healthy_samples, shortDD_samples"
   ],
   "outputs": [],
   "metadata": {}
  },
  {
   "cell_type": "code",
   "execution_count": 84,
   "source": [
    "#df_cd4 = pd.read_csv(resultPath+\"LongDiseaseDuration/CD4.Ranksum.RFECV.act.csv\", index_col=0)\n",
    "df_cd4 = pd.read_csv(resultPath+\"LongDiseaseDuration/CD8.Ranksum.RFECV.gene.result\", index_col=0)\n",
    "#df_cd4 = pd.read_csv(\"../data/counts_normalized/IDConvertedFiles/counts_vst_CD4.converted.csv\", index_col=0)\n",
    "meta_data = pd.read_csv('../data/annotation_metadata/EPIC_HCvB_metadata_baseline_updated-share.csv')\n",
    "long_samples, shortDD_samples = _LoadDiseaseDuration(df_cd4, meta_data, 'long')\n",
    "df_cd4 = df_cd4[long_samples+shortDD_samples]\n",
    "df_cd4 = df_cd4.subtract(df_cd4.median(axis=1), axis=0)\n",
    "\n",
    "\n",
    "fold_change = (df_cd4[long_samples].mean(axis=1) - df_cd4[shortDD_samples].mean(axis=1)).apply(abs)\n",
    "fold_change = fold_change.sort_values(ascending=False)[:40].index.tolist()\n",
    "df_cd4 = df_cd4.loc[fold_change]\n",
    "\n",
    "# Import some data to play with\n",
    "X = df_cd4.T.values\n",
    "y = [0]*len(long_samples)+[1]*len(shortDD_samples) # Training y\n",
    "y = np.array(y)"
   ],
   "outputs": [],
   "metadata": {}
  },
  {
   "cell_type": "code",
   "execution_count": 85,
   "source": [
    "from sklearn.ensemble import RandomForestClassifier\n",
    "from sklearn.model_selection import train_test_split\n",
    "from sklearn import metrics\n",
    "\n",
    "\n",
    "for t in list(range(45,50)):\n",
    "    X_train, X_test, y_train, y_test = train_test_split(X, y, test_size=0.7, random_state=t)\n",
    "    #X_test, X_val, y_test, y_val = train_test_split(X_test, y_test, test_size=0.5, random_state=t)\n",
    "\n",
    "    randomState = list(range(40,60))\n",
    "\n",
    "    test_auc = []\n",
    "    val_auc = []\n",
    "    for i in randomState:\n",
    "        clf = RandomForestClassifier(max_depth=10, random_state=i)\n",
    "        clf.fit(X_train, y_train)\n",
    "\n",
    "        y_pred = clf.predict(X_test)\n",
    "        fpr, tpr, thresholds = metrics.roc_curve(y_test, y_pred, pos_label=1)\n",
    "        #print(\"test auc: \",metrics.auc(fpr, tpr))\n",
    "        test_auc.append(metrics.auc(fpr, tpr))\n",
    "        \n",
    "        #y_val_pred = clf.predict(X_val)\n",
    "        #fpr, tpr, thresholds = metrics.roc_curve(y_val, y_val_pred, pos_label=1)\n",
    "        #print(\"val auc: \",metrics.auc(fpr, tpr))\n",
    "        #val_auc.append(metrics.auc(fpr, tpr))\n",
    "    #print(np.mean(test_auc), np.mean(val_auc))\n",
    "    print(np.mean(test_auc))"
   ],
   "outputs": [
    {
     "output_type": "stream",
     "name": "stdout",
     "text": [
      "0.6107080419580418\n",
      "0.5788095238095239\n",
      "0.6720274390243903\n",
      "0.5882142857142857\n",
      "0.6155594405594405\n"
     ]
    }
   ],
   "metadata": {}
  },
  {
   "cell_type": "code",
   "execution_count": null,
   "source": [],
   "outputs": [],
   "metadata": {}
  }
 ],
 "metadata": {
  "orig_nbformat": 4,
  "language_info": {
   "name": "python",
   "version": "3.8.2",
   "mimetype": "text/x-python",
   "codemirror_mode": {
    "name": "ipython",
    "version": 3
   },
   "pygments_lexer": "ipython3",
   "nbconvert_exporter": "python",
   "file_extension": ".py"
  },
  "kernelspec": {
   "name": "python3",
   "display_name": "Python 3.8.2 64-bit ('r-py-test': conda)"
  },
  "interpreter": {
   "hash": "7508a6b53ffb04362d156591e4bfb20c197555e37f3cce3b1ec90fd899bbfe63"
  }
 },
 "nbformat": 4,
 "nbformat_minor": 2
}