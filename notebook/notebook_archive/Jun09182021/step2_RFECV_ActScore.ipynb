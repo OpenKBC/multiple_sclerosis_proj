{
 "cells": [
  {
   "cell_type": "code",
   "execution_count": 3,
   "source": [
    "import pandas as pd\n",
    "## Utils and Library for notebook\n",
    "from notebook_utils.OpenKbcMSToolkit import ExtractionToolkit as exttoolkit\n",
    "\n",
    "# Root data path\n",
    "DATA_PATH = '../data/'\n",
    "\n",
    "#Data loading\n",
    "df = pd.read_csv(\"resultFiles/featureExtractionV3_by_Jun/LongDiseaseDuration/CD8.Ranksum.act.csv\", engine='c', index_col=0)\n",
    "meta_data = pd.read_csv(DATA_PATH+'annotation_metadata/EPIC_HCvB_metadata_baseline_updated-share.csv')\n",
    "longDD_samples, shortDD_samples = exttoolkit.get_sample_name_by_contValues(meta_data, 'HCVB_ID', 'DiseaseDuration', 50)\n",
    "\n",
    "longDD_samples = list(set(longDD_samples.values.tolist()).intersection(df.columns.tolist())) # intersected with act score matrix\n",
    "shortDD_samples = list(set(shortDD_samples.values.tolist()).intersection(df.columns.tolist())) # intersected with act score matrix\n",
    "df = df[longDD_samples+shortDD_samples].dropna() # reform df with intersected samples"
   ],
   "outputs": [
    {
     "output_type": "stream",
     "name": "stderr",
     "text": [
      "/Users/junheeyun/OpenKBC/multiple_sclerosis_proj/notebook/notebook_utils/OpenKbcMSToolkit.py:58: SettingWithCopyWarning: \n",
      "A value is trying to be set on a copy of a slice from a DataFrame.\n",
      "Try using .loc[row_indexer,col_indexer] = value instead\n",
      "\n",
      "See the caveats in the documentation: https://pandas.pydata.org/pandas-docs/stable/user_guide/indexing.html#returning-a-view-versus-a-copy\n",
      "  cont_df[dataColname] = cont_df[dataColname].astype(float) # make float\n"
     ]
    }
   ],
   "metadata": {}
  },
  {
   "cell_type": "code",
   "execution_count": 4,
   "source": [
    "X = df.T.values # Training sample\n",
    "y = [0]*len(longDD_samples)+[1]*len(shortDD_samples) # Training y\n",
    "X.shape"
   ],
   "outputs": [
    {
     "output_type": "execute_result",
     "data": {
      "text/plain": [
       "(132, 9653)"
      ]
     },
     "metadata": {},
     "execution_count": 4
    }
   ],
   "metadata": {}
  },
  {
   "cell_type": "code",
   "execution_count": 5,
   "source": [
    "import matplotlib.pyplot as plt\n",
    "from sklearn.svm import SVC\n",
    "from sklearn.model_selection import StratifiedKFold\n",
    "from sklearn.feature_selection import RFECV\n",
    "\n",
    "## Reference: \n",
    "## https://scikit-learn.org/stable/auto_examples/feature_selection/plot_rfe_with_cross_validation.html\n",
    "\n",
    "estimator = SVC(kernel=\"linear\") # linear\n",
    "min_features_to_select = 1\n",
    "rfecv = RFECV(estimator=estimator, step=1, cv=StratifiedKFold(2),\\\n",
    "    scoring='accuracy', min_features_to_select=min_features_to_select)\n",
    "rfecv.fit(X, y)\n",
    "\n",
    "print(\"Optimal number of features : %d\" % rfecv.n_features_)\n",
    "\n",
    "# Plot number of features VS. cross-validation scores\n",
    "plt.figure()\n",
    "plt.xlabel(\"Number of features selected\")\n",
    "plt.ylabel(\"Cross validation score (nb of correct classifications)\")\n",
    "plt.plot(range(min_features_to_select, len(rfecv.grid_scores_) + min_features_to_select), rfecv.grid_scores_)\n",
    "plt.show()"
   ],
   "outputs": [],
   "metadata": {}
  },
  {
   "cell_type": "code",
   "execution_count": null,
   "source": [
    "import numpy as np\n",
    "print(\"RFECV features: \")\n",
    "df.index[np.where(rfecv.ranking_<=10)] # Top100"
   ],
   "outputs": [
    {
     "output_type": "stream",
     "name": "stdout",
     "text": [
      "RFECV features: \n"
     ]
    },
    {
     "output_type": "execute_result",
     "data": {
      "text/plain": [
       "Index(['MIR4312', 'HP_COMA', 'HP_HYPOPHOSPHATEMIC_RICKETS', 'HP_LONG_THORAX',\n",
       "       'GSE36476_CTRL_VS_TSST_ACT_72H_MEMORY_CD4_TCELL_OLD_UP',\n",
       "       'GOBP_AMINO_ACID_BETAINE_METABOLIC_PROCESS',\n",
       "       'GOBP_HOMOPHILIC_CELL_ADHESION_VIA_PLASMA_MEMBRANE_ADHESION_MOLECULES',\n",
       "       'GOBP_HEXOSE_PHOSPHATE_TRANSPORT',\n",
       "       'GOBP_REGULATION_OF_CEREBELLAR_GRANULE_CELL_PRECURSOR_PROLIFERATION',\n",
       "       'GOBP_MEMBRANE_DEPOLARIZATION',\n",
       "       'GOBP_NEUROTRANSMITTER_RECEPTOR_TRANSPORT_ENDOSOME_TO_PLASMA_MEMBRANE',\n",
       "       'GOMF_TRNA_SPECIFIC_ADENOSINE_DEAMINASE_ACTIVITY'],\n",
       "      dtype='object')"
      ]
     },
     "metadata": {},
     "execution_count": 30
    }
   ],
   "metadata": {}
  },
  {
   "cell_type": "code",
   "execution_count": null,
   "source": [
    "df.loc[df.index[np.where(rfecv.ranking_<=10)]].to_csv('resultFiles/Ranksum.RFECV.CD8.csv')"
   ],
   "outputs": [],
   "metadata": {}
  },
  {
   "cell_type": "code",
   "execution_count": null,
   "source": [],
   "outputs": [],
   "metadata": {}
  }
 ],
 "metadata": {
  "orig_nbformat": 4,
  "language_info": {
   "name": "python",
   "version": "3.8.2",
   "mimetype": "text/x-python",
   "codemirror_mode": {
    "name": "ipython",
    "version": 3
   },
   "pygments_lexer": "ipython3",
   "nbconvert_exporter": "python",
   "file_extension": ".py"
  },
  "kernelspec": {
   "name": "python3",
   "display_name": "Python 3.8.2 64-bit ('r-py-test': conda)"
  },
  "interpreter": {
   "hash": "7508a6b53ffb04362d156591e4bfb20c197555e37f3cce3b1ec90fd899bbfe63"
  }
 },
 "nbformat": 4,
 "nbformat_minor": 2
}