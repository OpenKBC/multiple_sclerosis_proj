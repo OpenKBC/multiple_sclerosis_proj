{
 "cells": [
  {
   "cell_type": "code",
   "execution_count": 16,
   "source": [
    "from scipy.stats import ranksums\n",
    "import pandas as pd\n",
    "\n",
    "## Utils and Library for notebook\n",
    "from notebook_utils.OpenKbcMSToolkit import ExtractionToolkit as exttoolkit\n",
    "\n",
    "# Root data path\n",
    "DATA_PATH = '../data/'\n",
    "\n",
    "#Data loading\n",
    "df = pd.read_csv(DATA_PATH+\"activation_scores/msigdb_activation_vst_CD8.csv\", engine='c', index_col=0).T.dropna()\n",
    "meta_data = pd.read_csv(DATA_PATH+'annotation_metadata/EPIC_HCvB_metadata_baseline_updated-share.csv')\n",
    "longDD_samples, shortDD_samples = exttoolkit.get_sample_name_by_contValues(meta_data, 'HCVB_ID', 'DiseaseDuration', 50)\n",
    "longDD_samples = list(set(longDD_samples.values.tolist()).intersection(df.columns.tolist())) # intersected with act score matrix\n",
    "shortDD_samples = list(set(shortDD_samples.values.tolist()).intersection(df.columns.tolist())) # intersected with act score matrix\n",
    "#df = df[longDD_samples+shortDD_samples].dropna() # reform df with intersected samples"
   ],
   "outputs": [
    {
     "output_type": "stream",
     "name": "stderr",
     "text": [
      "/Users/junheeyun/OpenKBC/multiple_sclerosis_proj/notebook/notebook_utils/OpenKbcMSToolkit.py:58: SettingWithCopyWarning: \n",
      "A value is trying to be set on a copy of a slice from a DataFrame.\n",
      "Try using .loc[row_indexer,col_indexer] = value instead\n",
      "\n",
      "See the caveats in the documentation: https://pandas.pydata.org/pandas-docs/stable/user_guide/indexing.html#returning-a-view-versus-a-copy\n",
      "  cont_df[dataColname] = cont_df[dataColname].astype(float) # make float\n"
     ]
    }
   ],
   "metadata": {}
  },
  {
   "cell_type": "code",
   "execution_count": 17,
   "source": [
    "significant_list = []\n",
    "for x in df.index.tolist():\n",
    "    long_data = df[longDD_samples].loc[x] # Long expr list\n",
    "    short_data = df[shortDD_samples].loc[x] # Short expr list\n",
    "\n",
    "    s, p = ranksums(long_data.values.tolist(), short_data.values.tolist()) # ranksum\n",
    "    fc = short_data.mean(skipna=True) - long_data.mean(skipna=True) # FC\n",
    "\n",
    "    if p<0.05:\n",
    "        significant_list.append([x,fc, p]) # sig list\n",
    "\n",
    "sig_df = pd.DataFrame(significant_list, columns=[\"Names\", \"fc\", \"pval\"])"
   ],
   "outputs": [],
   "metadata": {}
  },
  {
   "cell_type": "code",
   "execution_count": 18,
   "source": [
    "print(sig_df.sort_values(by=['fc'], ascending=False))\n",
    "df.loc[sig_df[\"Names\"].values.tolist()].to_csv(\"resultFiles/Ranksum.CD8.csv\")"
   ],
   "outputs": [
    {
     "output_type": "stream",
     "name": "stdout",
     "text": [
      "                                                  Names        fc      pval\n",
      "2960  GSE5542_UNTREATED_VS_IFNG_TREATED_EPITHELIAL_C...  0.472934  0.021005\n",
      "2961  GSE5542_UNTREATED_VS_IFNA_TREATED_EPITHELIAL_C...  0.462940  0.023127\n",
      "2957  GSE5542_UNTREATED_VS_IFNG_TREATED_EPITHELIAL_C...  0.451128  0.025134\n",
      "2956          GSE4984_LPS_VS_VEHICLE_CTRL_TREATED_DC_DN  0.438776  0.026039\n",
      "2958  GSE5542_UNTREATED_VS_IFNA_TREATED_EPITHELIAL_C...  0.375618  0.020502\n",
      "...                                                 ...       ...       ...\n",
      "5813                                         MODULE_151 -0.355433  0.006635\n",
      "5809                                         MODULE_114 -0.355556  0.006544\n",
      "3568  FAN_OVARY_CL10_PUTATIVE_EARLY_ATRESIA_GRANULOS... -0.355558  0.002337\n",
      "3465     BUSSLINGER_DUODENAL_DIFFERENTIATING_STEM_CELLS -0.362739  0.007714\n",
      "3567      FAN_OVARY_CL8_MATURE_CUMULUS_GRANULOSA_CELL_2 -0.404299  0.002068\n",
      "\n",
      "[6155 rows x 3 columns]\n"
     ]
    }
   ],
   "metadata": {}
  },
  {
   "cell_type": "code",
   "execution_count": null,
   "source": [],
   "outputs": [],
   "metadata": {}
  }
 ],
 "metadata": {
  "orig_nbformat": 4,
  "language_info": {
   "name": "python",
   "version": "3.8.2",
   "mimetype": "text/x-python",
   "codemirror_mode": {
    "name": "ipython",
    "version": 3
   },
   "pygments_lexer": "ipython3",
   "nbconvert_exporter": "python",
   "file_extension": ".py"
  },
  "kernelspec": {
   "name": "python3",
   "display_name": "Python 3.8.2 64-bit ('r-py-test': conda)"
  },
  "interpreter": {
   "hash": "7508a6b53ffb04362d156591e4bfb20c197555e37f3cce3b1ec90fd899bbfe63"
  }
 },
 "nbformat": 4,
 "nbformat_minor": 2
}