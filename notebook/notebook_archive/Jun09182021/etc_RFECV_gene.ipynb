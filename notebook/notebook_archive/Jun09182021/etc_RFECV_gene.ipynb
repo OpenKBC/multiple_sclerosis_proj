{
 "cells": [
  {
   "cell_type": "code",
   "execution_count": 1,
   "source": [
    "import pandas as pd\n",
    "\n",
    "## Utils and Library for notebook\n",
    "#from notebook_lib.nwpv.nwpv import nwpv_calculation\n",
    "from notebook_utils.OpenKbcMSCalculator import nwpv_calculation as nwpv_calculator\n",
    "from notebook_utils.OpenKbcMSToolkit import ExtractionToolkit as exttoolkit\n",
    "\n",
    "# Root data path\n",
    "DATA_PATH = '../data/'\n",
    "\n",
    "# Sample loading\n",
    "gene_tpm = pd.read_feather(DATA_PATH+\"counts_normalized/counts_vst_CD8.feather\").set_index('index') # Load normalized CD8\n",
    "meta_data = pd.read_csv(DATA_PATH+'annotation_metadata/EPIC_HCvB_metadata_baseline_updated-share.csv')\n",
    "\n",
    "# Getting Sample Info\n",
    "# DiseaseStatus: ['MS' 'Unknown' 'CIS' 'Healthy']\n",
    "# DiseaseDuration(Early?)\n",
    "# DiseaseCourse: ['RR' 'PP' 'SP' 'RIS' 'CIS' 'Unknown' 'Healthy']\n",
    "sample_list, sample_category = exttoolkit.get_sample_name_by_category(dataframe=meta_data, sampleColumn='HCVB_ID', dataColname='DiseaseCourse')\n",
    "print(\"Sample Count\")\n",
    "count=0 \n",
    "for category, values in zip(sample_category, sample_list):\n",
    "    print(category+\" : \"+str(len(values)) + \", List number : \" + str(count))\n",
    "    count+=1"
   ],
   "outputs": [
    {
     "output_type": "stream",
     "name": "stdout",
     "text": [
      "Sample Count\n",
      "RR : 82, List number : 0\n",
      "PP : 14, List number : 1\n",
      "SP : 1, List number : 2\n",
      "RIS : 2, List number : 3\n",
      "CIS : 40, List number : 4\n",
      "Unknown : 1, List number : 5\n",
      "Healthy : 22, List number : 6\n"
     ]
    }
   ],
   "metadata": {}
  },
  {
   "cell_type": "code",
   "execution_count": 2,
   "source": [
    "duration_df = meta_data.dropna(subset=['DiseaseDuration']) # data for patient's duration set\n",
    "duration_df['DiseaseDuration'] = duration_df['DiseaseDuration'].astype(float) # make float\n",
    "\n",
    "## Long DD\n",
    "longDD_samples = duration_df.loc[ duration_df['DiseaseDuration'] >= duration_df['DiseaseDuration'].median(), 'HCVB_ID'] # Get sampleData which has longDD from metadata\n",
    "longDD_sampleList = list(set(gene_tpm.columns.tolist()).intersection(longDD_samples.values.tolist())) # Get intersected sampleID between expr and longDD\n",
    "longDD_meta = duration_df[duration_df['HCVB_ID'].isin(longDD_sampleList)] # Get meta with sampleNames\n",
    "#longDD_gene_expr = gene_tpm[longDD_sampleList] # Get expr with sampleNames\n",
    "\n",
    "## Short DD\n",
    "shortDD_samples = duration_df.loc[ duration_df['DiseaseDuration'] < duration_df['DiseaseDuration'].median(), 'HCVB_ID']\n",
    "shortDD_sampleList = list(set(gene_tpm.columns.tolist()).intersection(shortDD_samples.values.tolist()))\n",
    "shortDD_meta = duration_df[duration_df['HCVB_ID'].isin(shortDD_samples.values.tolist())]\n",
    "#shortDD_gene_expr = gene_tpm[shortDD_sampleList]"
   ],
   "outputs": [
    {
     "output_type": "stream",
     "name": "stderr",
     "text": [
      "/var/folders/sx/0rms4skn47nfn6svhhprv5700000gq/T/ipykernel_11157/331594947.py:2: SettingWithCopyWarning: \n",
      "A value is trying to be set on a copy of a slice from a DataFrame.\n",
      "Try using .loc[row_indexer,col_indexer] = value instead\n",
      "\n",
      "See the caveats in the documentation: https://pandas.pydata.org/pandas-docs/stable/user_guide/indexing.html#returning-a-view-versus-a-copy\n",
      "  duration_df['DiseaseDuration'] = duration_df['DiseaseDuration'].astype(float) # make float\n"
     ]
    }
   ],
   "metadata": {}
  },
  {
   "cell_type": "code",
   "execution_count": 3,
   "source": [
    "# NWPV calculation (Example for NWPV)\n",
    "#nwpv_result = nwpv_calculator(gene_tpm, shortDD_sampleList, longDD_sampleList)"
   ],
   "outputs": [],
   "metadata": {}
  },
  {
   "cell_type": "code",
   "execution_count": 4,
   "source": [
    "ext_gene_expr = gene_tpm[longDD_sampleList+shortDD_sampleList] ## Extracted gene expression\n",
    "X = ext_gene_expr.T.values # Training sample\n",
    "y = [0]*len(longDD_sampleList)+[1]*len(shortDD_sampleList) # Training y"
   ],
   "outputs": [],
   "metadata": {}
  },
  {
   "cell_type": "code",
   "execution_count": 6,
   "source": [
    "## RFE for feature selection(genes) between longDD and shortDD\n",
    "import matplotlib.pyplot as plt\n",
    "from sklearn.svm import SVC\n",
    "from sklearn.model_selection import StratifiedKFold\n",
    "from sklearn.feature_selection import RFECV\n",
    "\n",
    "## Reference: \n",
    "## https://scikit-learn.org/stable/auto_examples/feature_selection/plot_rfe_with_cross_validation.html\n",
    "\n",
    "estimator = SVC(kernel=\"linear\") # linear\n",
    "min_features_to_select = 1\n",
    "rfecv = RFECV(estimator=estimator, step=1, cv=StratifiedKFold(2),\\\n",
    "    scoring='accuracy', min_features_to_select=min_features_to_select)\n",
    "rfecv.fit(X, y)\n",
    "\n",
    "print(\"Optimal number of features : %d\" % rfecv.n_features_)\n",
    "\n",
    "# Plot number of features VS. cross-validation scores\n",
    "plt.figure()\n",
    "plt.xlabel(\"Number of features selected\")\n",
    "plt.ylabel(\"Cross validation score (nb of correct classifications)\")\n",
    "plt.plot(range(min_features_to_select,\n",
    "               len(rfecv.grid_scores_) + min_features_to_select),\n",
    "         rfecv.grid_scores_)\n",
    "plt.show()"
   ],
   "outputs": [
    {
     "output_type": "stream",
     "name": "stdout",
     "text": [
      "Optimal number of features : 26\n"
     ]
    },
    {
     "output_type": "display_data",
     "data": {
      "image/png": "[encoded data removed]",
      "text/plain": [
       "<Figure size 432x288 with 1 Axes>"
      ]
     },
     "metadata": {
      "needs_background": "light"
     }
    }
   ],
   "metadata": {}
  },
  {
   "cell_type": "code",
   "execution_count": 14,
   "source": [
    "import numpy as np\n",
    "print(\"RFECV features: \")\n",
    "gene_tpm.index[np.where(rfecv.ranking_==1)]"
   ],
   "outputs": [
    {
     "output_type": "stream",
     "name": "stdout",
     "text": [
      "RFECV features: \n"
     ]
    },
    {
     "output_type": "execute_result",
     "data": {
      "text/plain": [
       "Index(['ENSG00000022556.15_NLRP2', 'ENSG00000026297.15_RNASET2',\n",
       "       'ENSG00000086289.11_EPDR1', 'ENSG00000110090.12_CPT1A',\n",
       "       'ENSG00000129925.10_TMEM8A', 'ENSG00000134986.13_NREP',\n",
       "       'ENSG00000143776.18_CDC42BPA', 'ENSG00000157514.16_TSC22D3',\n",
       "       'ENSG00000166435.15_XRRA1', 'ENSG00000174130.12_TLR6',\n",
       "       'ENSG00000175183.9_CSRP2', 'ENSG00000188199.10_NUTM2B',\n",
       "       'ENSG00000204161.13_C10orf128', 'ENSG00000211710.3_TRBV4-1',\n",
       "       'ENSG00000211829.9_TRDC', 'ENSG00000232629.8_HLA-DQB2',\n",
       "       'ENSG00000236296.8_AC139713.1', 'ENSG00000241106.6_HLA-DOB',\n",
       "       'ENSG00000245954.6_RP11-18H21.1', 'ENSG00000248672.5_LY75-CD302',\n",
       "       'ENSG00000248874.5_C5orf17', 'ENSG00000253203.6_GUSBP3',\n",
       "       'ENSG00000255513.1_AC005363.9', 'ENSG00000263069.5_CTD-2047H16.4',\n",
       "       'ENSG00000264668.1_RP13-582O9.6', 'ENSG00000275131.2_CH17-472G23.4'],\n",
       "      dtype='object', name='index')"
      ]
     },
     "metadata": {},
     "execution_count": 14
    }
   ],
   "metadata": {}
  },
  {
   "cell_type": "code",
   "execution_count": null,
   "source": [],
   "outputs": [],
   "metadata": {}
  }
 ],
 "metadata": {
  "orig_nbformat": 4,
  "language_info": {
   "name": "python",
   "version": "3.9.6",
   "mimetype": "text/x-python",
   "codemirror_mode": {
    "name": "ipython",
    "version": 3
   },
   "pygments_lexer": "ipython3",
   "nbconvert_exporter": "python",
   "file_extension": ".py"
  },
  "kernelspec": {
   "name": "python3",
   "display_name": "Python 3.9.6 64-bit ('utils_v1': conda)"
  },
  "interpreter": {
   "hash": "77a526a359b8fd796eb09814c2228805e7076f62d8d78ef70c860dff672df599"
  }
 },
 "nbformat": 4,
 "nbformat_minor": 2
}