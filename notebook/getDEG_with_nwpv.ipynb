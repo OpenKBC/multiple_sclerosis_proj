{
 "cells": [
  {
   "cell_type": "code",
   "execution_count": 1,
   "source": [
    "import pandas as pd\n",
    "\n",
    "## Utils and Library for notebook\n",
    "from notebook_lib.nwpv.nwpv import nwpv_calculation\n",
    "from notebook_utils.OpenKbcMSToolkit import ExtractionToolkit as exttoolkit\n",
    "\n",
    "# Root data path\n",
    "DATA_PATH = '../data/'\n",
    "\n",
    "# Sample loading\n",
    "gene_tpm = pd.read_feather(DATA_PATH+\"counts_normalized/counts_vst_CD8.feather\").set_index('index') # Load normalized CD8\n",
    "meta_data = pd.read_csv(DATA_PATH+'EPIC_HCvB_metadata_baseline_updated-share.csv')\n",
    "\n",
    "# Getting Sample Info\n",
    "# DiseaseStatus: ['MS' 'Unknown' 'CIS' 'Healthy']\n",
    "# DiseaseDuration(Early?)\n",
    "# DiseaseCourse: ['RR' 'PP' 'SP' 'RIS' 'CIS' 'Unknown' 'Healthy']\n",
    "sample_list, sample_category = exttoolkit.get_sample_name_by_category(dataframe=meta_data, sampleColumn='HCVB_ID', dataColname='DiseaseCourse')\n",
    "print(\"Sample Count\")\n",
    "count=0 \n",
    "for category, values in zip(sample_category, sample_list):\n",
    "    print(category+\" : \"+str(len(values)) + \", List number : \" + str(count))\n",
    "    count+=1"
   ],
   "outputs": [
    {
     "output_type": "stream",
     "name": "stdout",
     "text": [
      "Sample Count\n",
      "RR : 82, List number : 0\n",
      "PP : 14, List number : 1\n",
      "SP : 1, List number : 2\n",
      "RIS : 2, List number : 3\n",
      "CIS : 40, List number : 4\n",
      "Unknown : 1, List number : 5\n",
      "Healthy : 22, List number : 6\n"
     ]
    }
   ],
   "metadata": {}
  },
  {
   "cell_type": "code",
   "execution_count": 2,
   "source": [
    "duration_df = meta_data.dropna(subset=['DiseaseDuration']) # data for patient's duration set\n",
    "duration_df['DiseaseDuration'] = duration_df['DiseaseDuration'].astype(float) # make float\n",
    "\n",
    "## Long DD\n",
    "longDD_samples = duration_df.loc[ duration_df['DiseaseDuration'] >= duration_df['DiseaseDuration'].median(), 'HCVB_ID'] # Get sampleData which has longDD from metadata\n",
    "longDD_sampleList = list(set(gene_tpm.columns.tolist()).intersection(longDD_samples.values.tolist())) # Get intersected sampleID between expr and longDD\n",
    "longDD_meta = duration_df[duration_df['HCVB_ID'].isin(longDD_sampleList)] # Get meta with sampleNames\n",
    "longDD_gene_expr = gene_tpm[longDD_sampleList] # Get expr with sampleNames\n",
    "\n",
    "## Short DD\n",
    "shortDD_samples = duration_df.loc[ duration_df['DiseaseDuration'] < duration_df['DiseaseDuration'].median(), 'HCVB_ID']\n",
    "shortDD_sampleList = list(set(gene_tpm.columns.tolist()).intersection(shortDD_samples.values.tolist()))\n",
    "shortDD_meta = duration_df[duration_df['HCVB_ID'].isin(shortDD_samples.values.tolist())]\n",
    "shortDD_gene_expr = gene_tpm[shortDD_sampleList]"
   ],
   "outputs": [
    {
     "output_type": "stream",
     "name": "stderr",
     "text": [
      "/var/folders/sx/0rms4skn47nfn6svhhprv5700000gq/T/ipykernel_36505/3086605768.py:2: SettingWithCopyWarning: \n",
      "A value is trying to be set on a copy of a slice from a DataFrame.\n",
      "Try using .loc[row_indexer,col_indexer] = value instead\n",
      "\n",
      "See the caveats in the documentation: https://pandas.pydata.org/pandas-docs/stable/user_guide/indexing.html#returning-a-view-versus-a-copy\n",
      "  duration_df['DiseaseDuration'] = duration_df['DiseaseDuration'].astype(float) # make float\n"
     ]
    }
   ],
   "metadata": {}
  },
  {
   "cell_type": "code",
   "execution_count": 3,
   "source": [
    "# NWPV calculation\n",
    "#nwpv_class = nwpv_calculation(gene_tpm, shortDD_sampleList, longDD_sampleList)\n",
    "#nwpv_class.get_result().to_csv(\"nwpv_result_CD8_vst.csv\")\n",
    "#nwpv_df = pd.read_csv('resultFiles/nwpv_result_CD8_vst.csv')\n",
    "#nwpv_df[(nwpv_df['combined_pvalue_adj'] < 0.05)]"
   ],
   "outputs": [],
   "metadata": {}
  },
  {
   "cell_type": "code",
   "execution_count": 10,
   "source": [
    "X = longDD_gene_expr.values[0]"
   ],
   "outputs": [
    {
     "output_type": "execute_result",
     "data": {
      "text/plain": [
       "72"
      ]
     },
     "metadata": {},
     "execution_count": 10
    }
   ],
   "metadata": {}
  },
  {
   "cell_type": "code",
   "execution_count": null,
   "source": [],
   "outputs": [],
   "metadata": {}
  }
 ],
 "metadata": {
  "orig_nbformat": 4,
  "language_info": {
   "name": "python",
   "version": "3.9.6",
   "mimetype": "text/x-python",
   "codemirror_mode": {
    "name": "ipython",
    "version": 3
   },
   "pygments_lexer": "ipython3",
   "nbconvert_exporter": "python",
   "file_extension": ".py"
  },
  "kernelspec": {
   "name": "python3",
   "display_name": "Python 3.9.6 64-bit ('utils_v1': conda)"
  },
  "interpreter": {
   "hash": "77a526a359b8fd796eb09814c2228805e7076f62d8d78ef70c860dff672df599"
  }
 },
 "nbformat": 4,
 "nbformat_minor": 2
}