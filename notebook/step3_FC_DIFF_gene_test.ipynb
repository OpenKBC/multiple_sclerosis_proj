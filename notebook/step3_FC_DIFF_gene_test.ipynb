{
 "cells": [
  {
   "cell_type": "code",
   "execution_count": 32,
   "source": [
    "from scipy.stats import ranksums\n",
    "import pandas as pd\n",
    "import itertools\n",
    "\n",
    "## Utils and Library for notebook\n",
    "from notebook_utils.OpenKbcMSToolkit import ExtractionToolkit as exttoolkit\n",
    "\n",
    "# Root data path\n",
    "DATA_PATH = '../data/'\n",
    "\n",
    "#Data loading\n",
    "df = pd.read_csv(\"resultFiles/Ranksum.RFECV.CD8.csv\", engine='c', index_col=0)\n",
    "meta_data = pd.read_csv(DATA_PATH+'annotation_metadata/EPIC_HCvB_metadata_baseline_updated-share.csv')\n",
    "longDD_samples, shortDD_samples = exttoolkit.get_sample_name_by_contValues(meta_data, 'HCVB_ID', 'DiseaseDuration', 50)"
   ],
   "outputs": [],
   "metadata": {}
  },
  {
   "cell_type": "code",
   "execution_count": 33,
   "source": [
    "MSIGDB_PATH = \"/Users/junheeyun/OpenKBC/multiple_sclerosis_proj/data/MsigDB_list/msigdb.v7.4.entrez.gmt\" #GMT file\n",
    "gmt_arr = [] # gmt parsing array\n",
    "with open(MSIGDB_PATH, 'r') as infile:\n",
    "    for line in infile:\n",
    "        gmt_value = line.strip().split(\"\\t\") # splitting line\n",
    "        sig_names = gmt_value[0] # signature name\n",
    "        gene_list = gmt_value[2:] # gene list\n",
    "        gmt_arr.append([sig_names]+gene_list)"
   ],
   "outputs": [],
   "metadata": {}
  },
  {
   "cell_type": "code",
   "execution_count": 34,
   "source": [
    "gmt_ext_arr = [x[1:] for x in gmt_arr if x[0] in df.index.tolist()] # Selected signature genes\n",
    "gmt_ext_arr = list(itertools.chain(*gmt_ext_arr))\n",
    "gmt_ext_arr = list(set(gmt_ext_arr)) # remove duplicated"
   ],
   "outputs": [],
   "metadata": {}
  },
  {
   "cell_type": "code",
   "execution_count": 35,
   "source": [
    "print(len(gmt_ext_arr))\n",
    "df_expr = pd.read_csv(DATA_PATH+\"counts_normalized/IDConvertedFiles/counts_vst_CD8.csv\", engine='c', index_col=0) # get expr\n",
    "gene_intersected = list(set(gmt_ext_arr).intersection(df_expr.index.tolist())) # intersected between expr and actScore sig\n",
    "df_expr = df_expr.loc[gene_intersected] # selected expr only\n",
    "longDD_samples = list(set(longDD_samples.values.tolist()).intersection(df_expr.columns.tolist())) # intersected with act score matrix\n",
    "shortDD_samples = list(set(shortDD_samples.values.tolist()).intersection(df_expr.columns.tolist())) # intersected with act score matrix"
   ],
   "outputs": [
    {
     "output_type": "stream",
     "name": "stdout",
     "text": [
      "650\n"
     ]
    }
   ],
   "metadata": {}
  },
  {
   "cell_type": "code",
   "execution_count": 36,
   "source": [
    "significant_list = []\n",
    "for x in df_expr.index.tolist():\n",
    "    long_data = df_expr[longDD_samples].loc[x] # Long expr list\n",
    "    short_data = df_expr[shortDD_samples].loc[x] # Short expr list\n",
    "\n",
    "    s, p = ranksums(long_data.values.tolist(), short_data.values.tolist()) # ranksum\n",
    "    fc = short_data.mean() - long_data.mean() # FC\n",
    "\n",
    "    if p<0.05:\n",
    "        significant_list.append([x,fc, p]) # sig list\n",
    "\n",
    "sig_df = pd.DataFrame(significant_list, columns=[\"Names\", \"fc\", \"pval\"])"
   ],
   "outputs": [],
   "metadata": {}
  },
  {
   "cell_type": "code",
   "execution_count": 37,
   "source": [
    "df_expr.loc[sig_df['Names'].values.tolist()].to_csv(\"resultFiles/Ranksum.CD8.gene.csv\")"
   ],
   "outputs": [],
   "metadata": {}
  },
  {
   "cell_type": "code",
   "execution_count": null,
   "source": [],
   "outputs": [],
   "metadata": {}
  }
 ],
 "metadata": {
  "orig_nbformat": 4,
  "language_info": {
   "name": "python",
   "version": "3.8.2",
   "mimetype": "text/x-python",
   "codemirror_mode": {
    "name": "ipython",
    "version": 3
   },
   "pygments_lexer": "ipython3",
   "nbconvert_exporter": "python",
   "file_extension": ".py"
  },
  "kernelspec": {
   "name": "python3",
   "display_name": "Python 3.8.2 64-bit ('r-py-test': conda)"
  },
  "interpreter": {
   "hash": "7508a6b53ffb04362d156591e4bfb20c197555e37f3cce3b1ec90fd899bbfe63"
  }
 },
 "nbformat": 4,
 "nbformat_minor": 2
}