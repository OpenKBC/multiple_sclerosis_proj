{
 "cells": [
  {
   "cell_type": "code",
   "execution_count": 1,
   "source": [
    "import pandas as pd\n",
    "\n",
    "## Utils and Library for notebook\n",
    "from notebook_lib.nwpv.nwpv import nwpv_calculation\n",
    "from notebook_utils.OpenKbcMSToolkit import ExtractionToolkit as exttoolkit\n",
    "\n",
    "# Root data path\n",
    "DATA_PATH = '../data/'\n",
    "\n",
    "# Sample loading\n",
    "gene_tpm = pd.read_feather(DATA_PATH+\"expr_matrix/CD8_samples.feather\").set_index('gene_id') # Load TPM CD8\n",
    "meta_data = pd.read_csv(DATA_PATH+'EPIC_HCvB_metadata_baseline_updated-share.csv')\n",
    "\n",
    "# Getting Sample Info\n",
    "# DiseaseStatus: ['MS' 'Unknown' 'CIS' 'Healthy']\n",
    "# DiseaseDuration(Early?)\n",
    "# DiseaseCourse: ['RR' 'PP' 'SP' 'RIS' 'CIS' 'Unknown' 'Healthy']\n",
    "sample_list, sample_category = exttoolkit.get_sample_name_by_category(dataframe=meta_data, sampleColumn='HCVB_ID', dataColname='DiseaseCourse')\n",
    "print(\"Sample Count\")\n",
    "count=0 \n",
    "for category, values in zip(sample_category, sample_list):\n",
    "    print(category+\" : \"+str(len(values)) + \", List number : \" + str(count))\n",
    "    count+=1"
   ],
   "outputs": [
    {
     "output_type": "error",
     "ename": "ImportError",
     "evalue": "cannot import name 'nwpv_calculation' from 'notebook_lib.nwpv' (unknown location)",
     "traceback": [
      "\u001b[0;31m---------------------------------------------------------------------------\u001b[0m",
      "\u001b[0;31mImportError\u001b[0m                               Traceback (most recent call last)",
      "\u001b[0;32m/var/folders/sx/0rms4skn47nfn6svhhprv5700000gq/T/ipykernel_3945/3819379594.py\u001b[0m in \u001b[0;36m<module>\u001b[0;34m\u001b[0m\n\u001b[1;32m      2\u001b[0m \u001b[0;34m\u001b[0m\u001b[0m\n\u001b[1;32m      3\u001b[0m \u001b[0;31m## Utils and Library for notebook\u001b[0m\u001b[0;34m\u001b[0m\u001b[0;34m\u001b[0m\u001b[0;34m\u001b[0m\u001b[0m\n\u001b[0;32m----> 4\u001b[0;31m \u001b[0;32mfrom\u001b[0m \u001b[0mnotebook_lib\u001b[0m\u001b[0;34m.\u001b[0m\u001b[0mnwpv\u001b[0m \u001b[0;32mimport\u001b[0m \u001b[0mnwpv_calculation\u001b[0m\u001b[0;34m\u001b[0m\u001b[0;34m\u001b[0m\u001b[0m\n\u001b[0m\u001b[1;32m      5\u001b[0m \u001b[0;32mfrom\u001b[0m \u001b[0mnotebook_utils\u001b[0m\u001b[0;34m.\u001b[0m\u001b[0mOpenKbcMSToolkit\u001b[0m \u001b[0;32mimport\u001b[0m \u001b[0mExtractionToolkit\u001b[0m \u001b[0;32mas\u001b[0m \u001b[0mexttoolkit\u001b[0m\u001b[0;34m\u001b[0m\u001b[0;34m\u001b[0m\u001b[0m\n\u001b[1;32m      6\u001b[0m \u001b[0;34m\u001b[0m\u001b[0m\n",
      "\u001b[0;31mImportError\u001b[0m: cannot import name 'nwpv_calculation' from 'notebook_lib.nwpv' (unknown location)"
     ]
    }
   ],
   "metadata": {}
  },
  {
   "cell_type": "code",
   "execution_count": null,
   "source": [
    "##Normalization here, quantile normalization(rpy2 connection)"
   ],
   "outputs": [],
   "metadata": {}
  },
  {
   "cell_type": "code",
   "execution_count": null,
   "source": [
    "RR_samples = list(set(gene_tpm.columns.tolist()).intersection(sample_list[0]))## RR set names\n",
    "Healthy_samples = list(set(gene_tpm.columns.tolist()).intersection(sample_list[6]))## Healthy set names\n",
    "\n",
    "nwpv_class = nwpv_calculation(gene_tpm, RR_samples, Healthy_samples)\n",
    "print (nwpv_class.get_result())"
   ],
   "outputs": [
    {
     "output_type": "error",
     "ename": "TypeError",
     "evalue": "'module' object is not callable",
     "traceback": [
      "\u001b[0;31m---------------------------------------------------------------------------\u001b[0m",
      "\u001b[0;31mTypeError\u001b[0m                                 Traceback (most recent call last)",
      "\u001b[0;32m/var/folders/sx/0rms4skn47nfn6svhhprv5700000gq/T/ipykernel_3896/1200194142.py\u001b[0m in \u001b[0;36m<module>\u001b[0;34m\u001b[0m\n\u001b[1;32m      2\u001b[0m \u001b[0mHealthy_samples\u001b[0m \u001b[0;34m=\u001b[0m \u001b[0mlist\u001b[0m\u001b[0;34m(\u001b[0m\u001b[0mset\u001b[0m\u001b[0;34m(\u001b[0m\u001b[0mgene_tpm\u001b[0m\u001b[0;34m.\u001b[0m\u001b[0mcolumns\u001b[0m\u001b[0;34m.\u001b[0m\u001b[0mtolist\u001b[0m\u001b[0;34m(\u001b[0m\u001b[0;34m)\u001b[0m\u001b[0;34m)\u001b[0m\u001b[0;34m.\u001b[0m\u001b[0mintersection\u001b[0m\u001b[0;34m(\u001b[0m\u001b[0msample_list\u001b[0m\u001b[0;34m[\u001b[0m\u001b[0;36m6\u001b[0m\u001b[0;34m]\u001b[0m\u001b[0;34m)\u001b[0m\u001b[0;34m)\u001b[0m\u001b[0;31m## Healthy set names\u001b[0m\u001b[0;34m\u001b[0m\u001b[0;34m\u001b[0m\u001b[0m\n\u001b[1;32m      3\u001b[0m \u001b[0;34m\u001b[0m\u001b[0m\n\u001b[0;32m----> 4\u001b[0;31m \u001b[0mnwpv_class\u001b[0m \u001b[0;34m=\u001b[0m \u001b[0mnwpv\u001b[0m\u001b[0;34m(\u001b[0m\u001b[0mgene_tpm\u001b[0m\u001b[0;34m,\u001b[0m \u001b[0mRR_samples\u001b[0m\u001b[0;34m,\u001b[0m \u001b[0mHealthy_samples\u001b[0m\u001b[0;34m)\u001b[0m\u001b[0;34m\u001b[0m\u001b[0;34m\u001b[0m\u001b[0m\n\u001b[0m\u001b[1;32m      5\u001b[0m \u001b[0mprint\u001b[0m \u001b[0;34m(\u001b[0m\u001b[0mnwpv_class\u001b[0m\u001b[0;34m.\u001b[0m\u001b[0mget_result\u001b[0m\u001b[0;34m(\u001b[0m\u001b[0;34m)\u001b[0m\u001b[0;34m)\u001b[0m\u001b[0;34m\u001b[0m\u001b[0;34m\u001b[0m\u001b[0m\n",
      "\u001b[0;31mTypeError\u001b[0m: 'module' object is not callable"
     ]
    }
   ],
   "metadata": {}
  }
 ],
 "metadata": {
  "orig_nbformat": 4,
  "language_info": {
   "name": "python",
   "version": "3.9.6",
   "mimetype": "text/x-python",
   "codemirror_mode": {
    "name": "ipython",
    "version": 3
   },
   "pygments_lexer": "ipython3",
   "nbconvert_exporter": "python",
   "file_extension": ".py"
  },
  "kernelspec": {
   "name": "python3",
   "display_name": "Python 3.9.6 64-bit ('utils_v1': conda)"
  },
  "interpreter": {
   "hash": "77a526a359b8fd796eb09814c2228805e7076f62d8d78ef70c860dff672df599"
  }
 },
 "nbformat": 4,
 "nbformat_minor": 2
}