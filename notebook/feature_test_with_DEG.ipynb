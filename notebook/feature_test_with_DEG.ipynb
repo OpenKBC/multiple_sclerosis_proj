{
 "cells": [
  {
   "cell_type": "code",
   "execution_count": 2,
   "source": [
    "import pandas as pd\n",
    "import numpy as np\n",
    "from notebook_utils.OpenKbcMSToolkit import ExtractionToolkit as exttoolkit\n",
    "\n",
    "deg_path = \"resultFiles/DEG_RRvsCIS_by_Jun/\"\n",
    "expr_path = \"../data/counts_normalized/rawFiles/\"\n",
    "deg_df = pd.read_csv(deg_path+\"CD4_DEG.result\",sep=' ', index_col=0).dropna()\n",
    "sig_df = deg_df.loc[(deg_df['pvalue']<0.05)]\n",
    "sig_df = sig_df.loc[(sig_df['log2FoldChange'] > 1) | (sig_df['log2FoldChange'] < -1)]\n",
    "\n",
    "expr_df = pd.read_csv(expr_path+\"counts_norm_CD4.csv\", index_col=0)\n",
    "expr_df.loc[sig_df.index.tolist()]\n",
    "expr_df.columns = [x.split('.')[0] for x in expr_df.columns.tolist()]\n",
    "expr_df = expr_df.applymap(lambda x : np.log2(x+1))\n",
    "expr_df = expr_df.subtract(expr_df.median(axis=1), axis=0)\n",
    "\n",
    "meta_data = pd.read_csv('../data/annotation_metadata/EPIC_HCvB_metadata_baseline_updated-share.csv')"
   ],
   "outputs": [],
   "metadata": {}
  },
  {
   "cell_type": "code",
   "execution_count": 3,
   "source": [
    "sample_list, sample_category = exttoolkit.get_sample_name_by_category(dataframe=meta_data, sampleColumn='HCVB_ID', dataColname='DiseaseCourse')\n",
    "sample_list[0] = list(set(expr_df.columns.tolist()).intersection(set(sample_list[0])))\n",
    "sample_list[4] = list(set(expr_df.columns.tolist()).intersection(set(sample_list[4])))\n",
    "ext_samples = sample_list[0] + sample_list[4] # RR + CIS\n",
    "\n",
    "ext_category = [0]*len(sample_list[0])+[1]*len(sample_list[4])\n",
    "\n",
    "expr_df = expr_df[ext_samples].loc[sig_df.index]\n",
    "expr_df = expr_df.replace(0, np.nan).dropna(thresh=len(expr_df.columns)-2).replace(np.nan, 0)\n"
   ],
   "outputs": [],
   "metadata": {}
  },
  {
   "cell_type": "code",
   "execution_count": 4,
   "source": [
    "len(ext_samples)"
   ],
   "outputs": [
    {
     "output_type": "execute_result",
     "data": {
      "text/plain": [
       "119"
      ]
     },
     "metadata": {},
     "execution_count": 4
    }
   ],
   "metadata": {}
  },
  {
   "cell_type": "code",
   "execution_count": 5,
   "source": [
    "X = expr_df.T.values\n",
    "y = ext_category"
   ],
   "outputs": [],
   "metadata": {}
  },
  {
   "cell_type": "code",
   "execution_count": 6,
   "source": [
    "from sklearn.ensemble import RandomForestClassifier\n",
    "from sklearn.svm import SVC\n",
    "from sklearn.model_selection import train_test_split\n",
    "from sklearn import metrics\n",
    "\n",
    "auc_arr = []\n",
    "val_auc = []\n",
    "\n",
    "for t in list(range(0,100)):\n",
    "    X_train, X_test, y_train, y_test = train_test_split(X, y, test_size=0.4, random_state=t)\n",
    "    X_test, X_val, y_test, y_val = train_test_split(X_test, y_test, test_size=0.5, random_state=t)\n",
    "\n",
    "    #randomState = list(range(0,5))\n",
    "\n",
    "    clf = SVC(kernel=\"linear\")\n",
    "    clf.fit(X_train, y_train)\n",
    "\n",
    "    y_pred = clf.predict(X_test)\n",
    "    fpr, tpr, thresholds = metrics.roc_curve(y_test, y_pred, pos_label=1)\n",
    "    auc_arr.append([t, metrics.auc(fpr, tpr)])\n",
    "    \n",
    "    y_val_pred = clf.predict(X_val)\n",
    "    fpr, tpr, thresholds = metrics.roc_curve(y_val, y_val_pred, pos_label=1)\n",
    "    val_auc.append([t, metrics.auc(fpr, tpr)])\n",
    "\n",
    "auc_test_df = pd.DataFrame(data=auc_arr, columns=['state', 'auc']).set_index('state')\n",
    "auc_val_df = pd.DataFrame(data=val_auc, columns=['state', 'auc']).set_index('state')"
   ],
   "outputs": [],
   "metadata": {}
  },
  {
   "cell_type": "code",
   "execution_count": 7,
   "source": [
    "auc_df = pd.concat([auc_test_df, auc_val_df], axis=1)\n",
    "auc_df.columns = ['test_auc', 'val_auc']\n",
    "auc_df['diff'] = auc_df['test_auc'] - auc_df['val_auc']\n",
    "auc_df"
   ],
   "outputs": [
    {
     "output_type": "execute_result",
     "data": {
      "text/html": [
       "<div>\n",
       "<style scoped>\n",
       "    .dataframe tbody tr th:only-of-type {\n",
       "        vertical-align: middle;\n",
       "    }\n",
       "\n",
       "    .dataframe tbody tr th {\n",
       "        vertical-align: top;\n",
       "    }\n",
       "\n",
       "    .dataframe thead th {\n",
       "        text-align: right;\n",
       "    }\n",
       "</style>\n",
       "<table border=\"1\" class=\"dataframe\">\n",
       "  <thead>\n",
       "    <tr style=\"text-align: right;\">\n",
       "      <th></th>\n",
       "      <th>test_auc</th>\n",
       "      <th>val_auc</th>\n",
       "      <th>diff</th>\n",
       "    </tr>\n",
       "    <tr>\n",
       "      <th>state</th>\n",
       "      <th></th>\n",
       "      <th></th>\n",
       "      <th></th>\n",
       "    </tr>\n",
       "  </thead>\n",
       "  <tbody>\n",
       "    <tr>\n",
       "      <th>0</th>\n",
       "      <td>0.718750</td>\n",
       "      <td>0.755556</td>\n",
       "      <td>-0.036806</td>\n",
       "    </tr>\n",
       "    <tr>\n",
       "      <th>1</th>\n",
       "      <td>0.708333</td>\n",
       "      <td>0.888889</td>\n",
       "      <td>-0.180556</td>\n",
       "    </tr>\n",
       "    <tr>\n",
       "      <th>2</th>\n",
       "      <td>0.626050</td>\n",
       "      <td>0.584034</td>\n",
       "      <td>0.042017</td>\n",
       "    </tr>\n",
       "    <tr>\n",
       "      <th>3</th>\n",
       "      <td>0.685714</td>\n",
       "      <td>0.773684</td>\n",
       "      <td>-0.087970</td>\n",
       "    </tr>\n",
       "    <tr>\n",
       "      <th>4</th>\n",
       "      <td>0.900000</td>\n",
       "      <td>0.642857</td>\n",
       "      <td>0.257143</td>\n",
       "    </tr>\n",
       "    <tr>\n",
       "      <th>...</th>\n",
       "      <td>...</td>\n",
       "      <td>...</td>\n",
       "      <td>...</td>\n",
       "    </tr>\n",
       "    <tr>\n",
       "      <th>95</th>\n",
       "      <td>0.750000</td>\n",
       "      <td>0.611888</td>\n",
       "      <td>0.138112</td>\n",
       "    </tr>\n",
       "    <tr>\n",
       "      <th>96</th>\n",
       "      <td>0.638655</td>\n",
       "      <td>0.697479</td>\n",
       "      <td>-0.058824</td>\n",
       "    </tr>\n",
       "    <tr>\n",
       "      <th>97</th>\n",
       "      <td>0.688889</td>\n",
       "      <td>0.687500</td>\n",
       "      <td>0.001389</td>\n",
       "    </tr>\n",
       "    <tr>\n",
       "      <th>98</th>\n",
       "      <td>0.677778</td>\n",
       "      <td>0.750000</td>\n",
       "      <td>-0.072222</td>\n",
       "    </tr>\n",
       "    <tr>\n",
       "      <th>99</th>\n",
       "      <td>0.742857</td>\n",
       "      <td>0.888889</td>\n",
       "      <td>-0.146032</td>\n",
       "    </tr>\n",
       "  </tbody>\n",
       "</table>\n",
       "<p>100 rows × 3 columns</p>\n",
       "</div>"
      ],
      "text/plain": [
       "       test_auc   val_auc      diff\n",
       "state                              \n",
       "0      0.718750  0.755556 -0.036806\n",
       "1      0.708333  0.888889 -0.180556\n",
       "2      0.626050  0.584034  0.042017\n",
       "3      0.685714  0.773684 -0.087970\n",
       "4      0.900000  0.642857  0.257143\n",
       "...         ...       ...       ...\n",
       "95     0.750000  0.611888  0.138112\n",
       "96     0.638655  0.697479 -0.058824\n",
       "97     0.688889  0.687500  0.001389\n",
       "98     0.677778  0.750000 -0.072222\n",
       "99     0.742857  0.888889 -0.146032\n",
       "\n",
       "[100 rows x 3 columns]"
      ]
     },
     "metadata": {},
     "execution_count": 7
    }
   ],
   "metadata": {}
  },
  {
   "cell_type": "code",
   "execution_count": 8,
   "source": [
    "import seaborn as sns\n",
    "sns.distplot(auc_test_df['auc'].values.tolist())\n",
    "sns.distplot(auc_val_df['auc'].values.tolist())"
   ],
   "outputs": [
    {
     "output_type": "stream",
     "name": "stderr",
     "text": [
      "/opt/miniconda3/envs/r-py-test/lib/python3.8/site-packages/seaborn/distributions.py:2619: FutureWarning: `distplot` is a deprecated function and will be removed in a future version. Please adapt your code to use either `displot` (a figure-level function with similar flexibility) or `histplot` (an axes-level function for histograms).\n",
      "  warnings.warn(msg, FutureWarning)\n",
      "/opt/miniconda3/envs/r-py-test/lib/python3.8/site-packages/seaborn/distributions.py:2619: FutureWarning: `distplot` is a deprecated function and will be removed in a future version. Please adapt your code to use either `displot` (a figure-level function with similar flexibility) or `histplot` (an axes-level function for histograms).\n",
      "  warnings.warn(msg, FutureWarning)\n"
     ]
    },
    {
     "output_type": "execute_result",
     "data": {
      "text/plain": [
       "<AxesSubplot:ylabel='Density'>"
      ]
     },
     "metadata": {},
     "execution_count": 8
    },
    {
     "output_type": "display_data",
     "data": {
      "image/png": "[encoded data removed]",
      "text/plain": [
       "<Figure size 432x288 with 1 Axes>"
      ]
     },
     "metadata": {
      "needs_background": "light"
     }
    }
   ],
   "metadata": {}
  },
  {
   "cell_type": "code",
   "execution_count": 9,
   "source": [
    "sns.distplot(auc_df['diff'].values.tolist())"
   ],
   "outputs": [
    {
     "output_type": "stream",
     "name": "stderr",
     "text": [
      "/opt/miniconda3/envs/r-py-test/lib/python3.8/site-packages/seaborn/distributions.py:2619: FutureWarning: `distplot` is a deprecated function and will be removed in a future version. Please adapt your code to use either `displot` (a figure-level function with similar flexibility) or `histplot` (an axes-level function for histograms).\n",
      "  warnings.warn(msg, FutureWarning)\n"
     ]
    },
    {
     "output_type": "execute_result",
     "data": {
      "text/plain": [
       "<AxesSubplot:ylabel='Density'>"
      ]
     },
     "metadata": {},
     "execution_count": 9
    },
    {
     "output_type": "display_data",
     "data": {
      "image/png": "[encoded data removed]",
      "text/plain": [
       "<Figure size 432x288 with 1 Axes>"
      ]
     },
     "metadata": {
      "needs_background": "light"
     }
    }
   ],
   "metadata": {}
  },
  {
   "cell_type": "code",
   "execution_count": null,
   "source": [],
   "outputs": [],
   "metadata": {}
  }
 ],
 "metadata": {
  "orig_nbformat": 4,
  "language_info": {
   "name": "python",
   "version": "3.8.2",
   "mimetype": "text/x-python",
   "codemirror_mode": {
    "name": "ipython",
    "version": 3
   },
   "pygments_lexer": "ipython3",
   "nbconvert_exporter": "python",
   "file_extension": ".py"
  },
  "kernelspec": {
   "name": "python3",
   "display_name": "Python 3.8.2 64-bit ('r-py-test': conda)"
  },
  "interpreter": {
   "hash": "7508a6b53ffb04362d156591e4bfb20c197555e37f3cce3b1ec90fd899bbfe63"
  }
 },
 "nbformat": 4,
 "nbformat_minor": 2
}